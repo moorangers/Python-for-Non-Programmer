{
  "nbformat": 4,
  "nbformat_minor": 0,
  "metadata": {
    "colab": {
      "name": "Copy of EP3 - Hello World.ipynb",
      "provenance": [],
      "collapsed_sections": [],
      "include_colab_link": true
    },
    "language_info": {
      "name": "python"
    },
    "kernelspec": {
      "name": "python3",
      "display_name": "Python 3"
    }
  },
  "cells": [
    {
      "cell_type": "markdown",
      "metadata": {
        "id": "view-in-github",
        "colab_type": "text"
      },
      "source": [
        "<a href=\"https://colab.research.google.com/github/moorangers/Python-for-Non-Programmer/blob/main/Copy_of_EP3_Hello_World.ipynb\" target=\"_parent\"><img src=\"https://colab.research.google.com/assets/colab-badge.svg\" alt=\"Open In Colab\"/></a>"
      ]
    },
    {
      "metadata": {
        "id": "6xpchQ7J-LMP"
      },
      "cell_type": "markdown",
      "source": [
        "## สอนคอมพิวเตอร์ให้พูดว่า \"Hello World\"\n",
        "\n",
        "![alt text](https://images.unsplash.com/photo-1532568547949-a09f1afe4d1b?ixlib=rb-0.3.5&ixid=eyJhcHBfaWQiOjEyMDd9&s=c60f91260b7f8e07e067794735d0cf22&auto=format&fit=crop&w=500&q=60)\n",
        "\n",
        "เรียนภาษาไหน ก็ต้องเจอ Hello World วันนี้ก็เช่นกัน 555+\n",
        "\n",
        "ใน Python เราใช้ฟังชั่น print( ) เพื่อสั่งให้คอมพิวเตอร์พูดคำที่เราต้องการ\n",
        "\n",
        "ลองกดรัน Cell ด้านล่าง (กดปุ่ม **SHIFT + ENTER** พร้อมกัน)"
      ]
    },
    {
      "metadata": {
        "id": "-Cm9S-VHrG4d",
        "colab": {
          "base_uri": "https://localhost:8080/"
        },
        "outputId": "ed1fb35b-b4b6-432d-f184-06051e93ac90"
      },
      "cell_type": "code",
      "source": [
        "print(\"Hello World\")\n"
      ],
      "execution_count": null,
      "outputs": [
        {
          "output_type": "stream",
          "name": "stdout",
          "text": [
            "Hello World\n"
          ]
        }
      ]
    },
    {
      "metadata": {
        "id": "naQfPCmj-1t-",
        "colab": {
          "base_uri": "https://localhost:8080/"
        },
        "outputId": "a77521a9-c9be-4729-e878-0bf76998cb69"
      },
      "cell_type": "code",
      "source": [
        "# ข้อความหรือ text ที่เราอยากให้มันพูดต้องอยู่ในเครื่องหมาย \" \" (double quote) หรือ ' ' (single quote)\n",
        "\n",
        "print(\"Python for Non-Programmer\")\n",
        "print('Python for Non-Programmer')\n",
        "print(\"จะ single quote หรือ double quote ก็ปริ้นได้เหมือนกัน\")"
      ],
      "execution_count": null,
      "outputs": [
        {
          "output_type": "stream",
          "name": "stdout",
          "text": [
            "Python for Non-Programmer\n",
            "Python for Non-Programmer\n",
            "จะ single quote หรือ double quote ก็ปริ้นได้เหมือนกัน\n"
          ]
        }
      ]
    },
    {
      "metadata": {
        "id": "Yxb0ag6A-t0k",
        "colab": {
          "base_uri": "https://localhost:8080/"
        },
        "outputId": "869a8876-3702-4f65-aa9a-04caaf0537c1"
      },
      "cell_type": "code",
      "source": [
        "# ลองสั่งให้มันพิมพ์ชื่อของคุณ\n",
        "print(\"Moo\")"
      ],
      "execution_count": null,
      "outputs": [
        {
          "output_type": "stream",
          "name": "stdout",
          "text": [
            "Moo\n"
          ]
        }
      ]
    },
    {
      "metadata": {
        "id": "KqXkCBfP_OIS",
        "colab": {
          "base_uri": "https://localhost:8080/"
        },
        "outputId": "a663f4ac-171a-438f-aba9-53e7a89e70ff"
      },
      "cell_type": "code",
      "source": [
        "# เราสามารถสั่งปริ้นแบบขึ้นบรรทัดใหม่ได้ง่ายๆ ด้วยการใส่ \\n ไปในข้อความของเรา\n",
        "# \\n แปลว่าขึ้นบรรทัดใหม่ !! มาลองดูตัวอย่าง\n",
        "\n",
        "print(\"line one\\nline two\\nline three\")"
      ],
      "execution_count": null,
      "outputs": [
        {
          "output_type": "stream",
          "name": "stdout",
          "text": [
            "line one\n",
            "line two\n",
            "line three\n"
          ]
        }
      ]
    },
    {
      "metadata": {
        "id": "jR3qnIh8_lBK",
        "colab": {
          "base_uri": "https://localhost:8080/"
        },
        "outputId": "8e709a68-a5f3-4566-940d-4e3926e0aa8f"
      },
      "cell_type": "code",
      "source": [
        "# ง่ายอะไรเบอร์นี้\n",
        "# Python version 3 ที่เรากำลังเรียนกันอยู่รองรับ Unicode คือมันอ่านภาษาไทยได้ด้วย\n",
        "\n",
        "print(\"ภาษาไทยเราก็อ่านออกจ้าาาาา\")"
      ],
      "execution_count": null,
      "outputs": [
        {
          "output_type": "stream",
          "name": "stdout",
          "text": [
            "ภาษาไทยเราก็อ่านออกจ้าาาาา\n"
          ]
        }
      ]
    },
    {
      "metadata": {
        "id": "X1SLffV3_wTY"
      },
      "cell_type": "markdown",
      "source": [
        "## Summary\n",
        "และนี่คือการเขียนโค้ดครั้งแรกของคุณเลยใน Python สั่งงานให้คอมพิวเตอร์พูดได้ง่ายๆด้วย print() ฟังชั่น"
      ]
    }
  ]
}